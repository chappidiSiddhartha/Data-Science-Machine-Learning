{
 "cells": [
  {
   "cell_type": "markdown",
   "metadata": {},
   "source": [
    "# Business Problem\n",
    "\n",
    "The Management team at Walmart Inc. wants to analyze the customer purchase behavior (specifically, purchase amount) against the customer’s gender and the various other factors to help the business make better decisions. They want to understand if the spending habits differ between male and female customers: Do women spend more on Black Friday than men? (Assume 50 million customers are male and 50 million are female)."
   ]
  },
  {
   "cell_type": "code",
   "execution_count": 1,
   "metadata": {},
   "outputs": [],
   "source": [
    "import numpy as np\n",
    "import pandas as pd\n",
    "df1=pd.read_csv(r'C:\\Users\\chapp\\Downloads\\walmart_data.csv')"
   ]
  },
  {
   "cell_type": "code",
   "execution_count": 2,
   "metadata": {},
   "outputs": [
    {
     "data": {
      "text/html": [
       "<div>\n",
       "<style scoped>\n",
       "    .dataframe tbody tr th:only-of-type {\n",
       "        vertical-align: middle;\n",
       "    }\n",
       "\n",
       "    .dataframe tbody tr th {\n",
       "        vertical-align: top;\n",
       "    }\n",
       "\n",
       "    .dataframe thead th {\n",
       "        text-align: right;\n",
       "    }\n",
       "</style>\n",
       "<table border=\"1\" class=\"dataframe\">\n",
       "  <thead>\n",
       "    <tr style=\"text-align: right;\">\n",
       "      <th></th>\n",
       "      <th>User_ID,Product_ID,Gender,Age,Occupation,City_Category,Stay_In_Current_City_Years,Marital_Status,Product_Category,Purchase</th>\n",
       "    </tr>\n",
       "  </thead>\n",
       "  <tbody>\n",
       "    <tr>\n",
       "      <th>0</th>\n",
       "      <td>1000001,P00069042,F,0-17,10,A,2,0,3,8370</td>\n",
       "    </tr>\n",
       "    <tr>\n",
       "      <th>1</th>\n",
       "      <td>1000001,P00248942,F,0-17,10,A,2,0,1,15200</td>\n",
       "    </tr>\n",
       "    <tr>\n",
       "      <th>2</th>\n",
       "      <td>1000001,P00087842,F,0-17,10,A,2,0,12,1422</td>\n",
       "    </tr>\n",
       "    <tr>\n",
       "      <th>3</th>\n",
       "      <td>1000001,P00085442,F,0-17,10,A,2,0,12,1057</td>\n",
       "    </tr>\n",
       "    <tr>\n",
       "      <th>4</th>\n",
       "      <td>1000002,P00285442,M,55+,16,C,4+,0,8,7969</td>\n",
       "    </tr>\n",
       "  </tbody>\n",
       "</table>\n",
       "</div>"
      ],
      "text/plain": [
       "  User_ID,Product_ID,Gender,Age,Occupation,City_Category,Stay_In_Current_City_Years,Marital_Status,Product_Category,Purchase\n",
       "0           1000001,P00069042,F,0-17,10,A,2,0,3,8370                                                                        \n",
       "1          1000001,P00248942,F,0-17,10,A,2,0,1,15200                                                                        \n",
       "2          1000001,P00087842,F,0-17,10,A,2,0,12,1422                                                                        \n",
       "3          1000001,P00085442,F,0-17,10,A,2,0,12,1057                                                                        \n",
       "4           1000002,P00285442,M,55+,16,C,4+,0,8,7969                                                                        "
      ]
     },
     "execution_count": 2,
     "metadata": {},
     "output_type": "execute_result"
    }
   ],
   "source": [
    "df1.head(5)"
   ]
  },
  {
   "cell_type": "code",
   "execution_count": 3,
   "metadata": {},
   "outputs": [
    {
     "data": {
      "text/plain": [
       "Index(['User_ID,Product_ID,Gender,Age,Occupation,City_Category,Stay_In_Current_City_Years,Marital_Status,Product_Category,Purchase'], dtype='object')"
      ]
     },
     "execution_count": 3,
     "metadata": {},
     "output_type": "execute_result"
    }
   ],
   "source": [
    "df1.columns"
   ]
  },
  {
   "cell_type": "code",
   "execution_count": 4,
   "metadata": {},
   "outputs": [
    {
     "data": {
      "text/plain": [
       "['User_ID',\n",
       " 'Product_ID',\n",
       " 'Gender',\n",
       " 'Age',\n",
       " 'Occupation',\n",
       " 'City_Category',\n",
       " 'Stay_In_Current_City_Years',\n",
       " 'Marital_Status',\n",
       " 'Product_Category',\n",
       " 'Purchase']"
      ]
     },
     "execution_count": 4,
     "metadata": {},
     "output_type": "execute_result"
    }
   ],
   "source": [
    "columns1=list(df1.columns)[0].split(\",\")\n",
    "columns1"
   ]
  },
  {
   "cell_type": "code",
   "execution_count": 5,
   "metadata": {},
   "outputs": [
    {
     "data": {
      "text/html": [
       "<div>\n",
       "<style scoped>\n",
       "    .dataframe tbody tr th:only-of-type {\n",
       "        vertical-align: middle;\n",
       "    }\n",
       "\n",
       "    .dataframe tbody tr th {\n",
       "        vertical-align: top;\n",
       "    }\n",
       "\n",
       "    .dataframe thead th {\n",
       "        text-align: right;\n",
       "    }\n",
       "</style>\n",
       "<table border=\"1\" class=\"dataframe\">\n",
       "  <thead>\n",
       "    <tr style=\"text-align: right;\">\n",
       "      <th></th>\n",
       "      <th>User_ID</th>\n",
       "      <th>Product_ID</th>\n",
       "      <th>Gender</th>\n",
       "      <th>Age</th>\n",
       "      <th>Occupation</th>\n",
       "      <th>City_Category</th>\n",
       "      <th>Stay_In_Current_City_Years</th>\n",
       "      <th>Marital_Status</th>\n",
       "      <th>Product_Category</th>\n",
       "      <th>Purchase</th>\n",
       "    </tr>\n",
       "  </thead>\n",
       "  <tbody>\n",
       "    <tr>\n",
       "      <th>0</th>\n",
       "      <td>1000001</td>\n",
       "      <td>P00069042</td>\n",
       "      <td>F</td>\n",
       "      <td>0-17</td>\n",
       "      <td>10</td>\n",
       "      <td>A</td>\n",
       "      <td>2</td>\n",
       "      <td>0</td>\n",
       "      <td>3</td>\n",
       "      <td>8370</td>\n",
       "    </tr>\n",
       "    <tr>\n",
       "      <th>1</th>\n",
       "      <td>1000001</td>\n",
       "      <td>P00248942</td>\n",
       "      <td>F</td>\n",
       "      <td>0-17</td>\n",
       "      <td>10</td>\n",
       "      <td>A</td>\n",
       "      <td>2</td>\n",
       "      <td>0</td>\n",
       "      <td>1</td>\n",
       "      <td>15200</td>\n",
       "    </tr>\n",
       "    <tr>\n",
       "      <th>2</th>\n",
       "      <td>1000001</td>\n",
       "      <td>P00087842</td>\n",
       "      <td>F</td>\n",
       "      <td>0-17</td>\n",
       "      <td>10</td>\n",
       "      <td>A</td>\n",
       "      <td>2</td>\n",
       "      <td>0</td>\n",
       "      <td>12</td>\n",
       "      <td>1422</td>\n",
       "    </tr>\n",
       "    <tr>\n",
       "      <th>3</th>\n",
       "      <td>1000001</td>\n",
       "      <td>P00085442</td>\n",
       "      <td>F</td>\n",
       "      <td>0-17</td>\n",
       "      <td>10</td>\n",
       "      <td>A</td>\n",
       "      <td>2</td>\n",
       "      <td>0</td>\n",
       "      <td>12</td>\n",
       "      <td>1057</td>\n",
       "    </tr>\n",
       "    <tr>\n",
       "      <th>4</th>\n",
       "      <td>1000002</td>\n",
       "      <td>P00285442</td>\n",
       "      <td>M</td>\n",
       "      <td>55+</td>\n",
       "      <td>16</td>\n",
       "      <td>C</td>\n",
       "      <td>4+</td>\n",
       "      <td>0</td>\n",
       "      <td>8</td>\n",
       "      <td>7969</td>\n",
       "    </tr>\n",
       "  </tbody>\n",
       "</table>\n",
       "</div>"
      ],
      "text/plain": [
       "   User_ID Product_ID Gender   Age Occupation City_Category  \\\n",
       "0  1000001  P00069042      F  0-17         10             A   \n",
       "1  1000001  P00248942      F  0-17         10             A   \n",
       "2  1000001  P00087842      F  0-17         10             A   \n",
       "3  1000001  P00085442      F  0-17         10             A   \n",
       "4  1000002  P00285442      M   55+         16             C   \n",
       "\n",
       "  Stay_In_Current_City_Years Marital_Status Product_Category Purchase  \n",
       "0                          2              0                3     8370  \n",
       "1                          2              0                1    15200  \n",
       "2                          2              0               12     1422  \n",
       "3                          2              0               12     1057  \n",
       "4                         4+              0                8     7969  "
      ]
     },
     "execution_count": 5,
     "metadata": {},
     "output_type": "execute_result"
    }
   ],
   "source": [
    "l=[]\n",
    "for i in range(len(df1)):\n",
    "    v=list(df1.loc[i,:])\n",
    "    l.append(v[0].split(\",\"))\n",
    "    \n",
    "df=pd.DataFrame(l,columns=columns1)\n",
    "df.head(5)"
   ]
  },
  {
   "cell_type": "code",
   "execution_count": 6,
   "metadata": {},
   "outputs": [
    {
     "data": {
      "text/plain": [
       "(550068, 10)"
      ]
     },
     "execution_count": 6,
     "metadata": {},
     "output_type": "execute_result"
    }
   ],
   "source": [
    "df.shape"
   ]
  },
  {
   "cell_type": "code",
   "execution_count": 7,
   "metadata": {},
   "outputs": [
    {
     "name": "stdout",
     "output_type": "stream",
     "text": [
      "<class 'pandas.core.frame.DataFrame'>\n",
      "RangeIndex: 550068 entries, 0 to 550067\n",
      "Data columns (total 10 columns):\n",
      "User_ID                       550068 non-null object\n",
      "Product_ID                    550068 non-null object\n",
      "Gender                        550068 non-null object\n",
      "Age                           550068 non-null object\n",
      "Occupation                    550068 non-null object\n",
      "City_Category                 550068 non-null object\n",
      "Stay_In_Current_City_Years    550068 non-null object\n",
      "Marital_Status                550068 non-null object\n",
      "Product_Category              550068 non-null object\n",
      "Purchase                      550068 non-null object\n",
      "dtypes: object(10)\n",
      "memory usage: 42.0+ MB\n"
     ]
    }
   ],
   "source": [
    "df.info()"
   ]
  },
  {
   "cell_type": "code",
   "execution_count": 8,
   "metadata": {},
   "outputs": [],
   "source": [
    "df['Purchase']=df['Purchase'].astype(int)"
   ]
  },
  {
   "cell_type": "code",
   "execution_count": 9,
   "metadata": {},
   "outputs": [
    {
     "data": {
      "text/plain": [
       "User_ID                       0\n",
       "Product_ID                    0\n",
       "Gender                        0\n",
       "Age                           0\n",
       "Occupation                    0\n",
       "City_Category                 0\n",
       "Stay_In_Current_City_Years    0\n",
       "Marital_Status                0\n",
       "Product_Category              0\n",
       "Purchase                      0\n",
       "dtype: int64"
      ]
     },
     "execution_count": 9,
     "metadata": {},
     "output_type": "execute_result"
    }
   ],
   "source": [
    "#checking null values \n",
    "df.isnull().sum()"
   ]
  },
  {
   "cell_type": "code",
   "execution_count": 10,
   "metadata": {},
   "outputs": [
    {
     "data": {
      "text/plain": [
       "User_ID                       0.0\n",
       "Product_ID                    0.0\n",
       "Gender                        0.0\n",
       "Age                           0.0\n",
       "Occupation                    0.0\n",
       "City_Category                 0.0\n",
       "Stay_In_Current_City_Years    0.0\n",
       "Marital_Status                0.0\n",
       "Product_Category              0.0\n",
       "Purchase                      0.0\n",
       "dtype: float64"
      ]
     },
     "execution_count": 10,
     "metadata": {},
     "output_type": "execute_result"
    }
   ],
   "source": [
    "df.isnull().sum()/len(df)*100\n"
   ]
  },
  {
   "cell_type": "code",
   "execution_count": 11,
   "metadata": {},
   "outputs": [
    {
     "data": {
      "text/plain": [
       "5891"
      ]
     },
     "execution_count": 11,
     "metadata": {},
     "output_type": "execute_result"
    }
   ],
   "source": [
    "df['User_ID'].nunique()\n"
   ]
  },
  {
   "cell_type": "code",
   "execution_count": 12,
   "metadata": {},
   "outputs": [
    {
     "data": {
      "text/plain": [
       "Gender\n",
       "F    1666\n",
       "M    4225\n",
       "Name: User_ID, dtype: int64"
      ]
     },
     "execution_count": 12,
     "metadata": {},
     "output_type": "execute_result"
    }
   ],
   "source": [
    "df.groupby(['Gender'])['User_ID'].nunique()\n"
   ]
  },
  {
   "cell_type": "code",
   "execution_count": 13,
   "metadata": {},
   "outputs": [
    {
     "data": {
      "text/html": [
       "<div>\n",
       "<style scoped>\n",
       "    .dataframe tbody tr th:only-of-type {\n",
       "        vertical-align: middle;\n",
       "    }\n",
       "\n",
       "    .dataframe tbody tr th {\n",
       "        vertical-align: top;\n",
       "    }\n",
       "\n",
       "    .dataframe thead th {\n",
       "        text-align: right;\n",
       "    }\n",
       "</style>\n",
       "<table border=\"1\" class=\"dataframe\">\n",
       "  <thead>\n",
       "    <tr style=\"text-align: right;\">\n",
       "      <th></th>\n",
       "      <th>Purchase</th>\n",
       "    </tr>\n",
       "  </thead>\n",
       "  <tbody>\n",
       "    <tr>\n",
       "      <th>count</th>\n",
       "      <td>550068.000000</td>\n",
       "    </tr>\n",
       "    <tr>\n",
       "      <th>mean</th>\n",
       "      <td>9263.968713</td>\n",
       "    </tr>\n",
       "    <tr>\n",
       "      <th>std</th>\n",
       "      <td>5023.065394</td>\n",
       "    </tr>\n",
       "    <tr>\n",
       "      <th>min</th>\n",
       "      <td>12.000000</td>\n",
       "    </tr>\n",
       "    <tr>\n",
       "      <th>25%</th>\n",
       "      <td>5823.000000</td>\n",
       "    </tr>\n",
       "    <tr>\n",
       "      <th>50%</th>\n",
       "      <td>8047.000000</td>\n",
       "    </tr>\n",
       "    <tr>\n",
       "      <th>75%</th>\n",
       "      <td>12054.000000</td>\n",
       "    </tr>\n",
       "    <tr>\n",
       "      <th>max</th>\n",
       "      <td>23961.000000</td>\n",
       "    </tr>\n",
       "  </tbody>\n",
       "</table>\n",
       "</div>"
      ],
      "text/plain": [
       "            Purchase\n",
       "count  550068.000000\n",
       "mean     9263.968713\n",
       "std      5023.065394\n",
       "min        12.000000\n",
       "25%      5823.000000\n",
       "50%      8047.000000\n",
       "75%     12054.000000\n",
       "max     23961.000000"
      ]
     },
     "execution_count": 13,
     "metadata": {},
     "output_type": "execute_result"
    }
   ],
   "source": [
    "df.describe()\n"
   ]
  },
  {
   "cell_type": "code",
   "execution_count": 14,
   "metadata": {},
   "outputs": [
    {
     "data": {
      "text/html": [
       "<div>\n",
       "<style scoped>\n",
       "    .dataframe tbody tr th:only-of-type {\n",
       "        vertical-align: middle;\n",
       "    }\n",
       "\n",
       "    .dataframe tbody tr th {\n",
       "        vertical-align: top;\n",
       "    }\n",
       "\n",
       "    .dataframe thead th {\n",
       "        text-align: right;\n",
       "    }\n",
       "</style>\n",
       "<table border=\"1\" class=\"dataframe\">\n",
       "  <thead>\n",
       "    <tr style=\"text-align: right;\">\n",
       "      <th></th>\n",
       "      <th>count</th>\n",
       "      <th>mean</th>\n",
       "      <th>std</th>\n",
       "      <th>min</th>\n",
       "      <th>25%</th>\n",
       "      <th>50%</th>\n",
       "      <th>75%</th>\n",
       "      <th>max</th>\n",
       "    </tr>\n",
       "    <tr>\n",
       "      <th>Gender</th>\n",
       "      <th></th>\n",
       "      <th></th>\n",
       "      <th></th>\n",
       "      <th></th>\n",
       "      <th></th>\n",
       "      <th></th>\n",
       "      <th></th>\n",
       "      <th></th>\n",
       "    </tr>\n",
       "  </thead>\n",
       "  <tbody>\n",
       "    <tr>\n",
       "      <th>F</th>\n",
       "      <td>135809.0</td>\n",
       "      <td>8734.565765</td>\n",
       "      <td>4767.233289</td>\n",
       "      <td>12.0</td>\n",
       "      <td>5433.0</td>\n",
       "      <td>7914.0</td>\n",
       "      <td>11400.0</td>\n",
       "      <td>23959.0</td>\n",
       "    </tr>\n",
       "    <tr>\n",
       "      <th>M</th>\n",
       "      <td>414259.0</td>\n",
       "      <td>9437.526040</td>\n",
       "      <td>5092.186210</td>\n",
       "      <td>12.0</td>\n",
       "      <td>5863.0</td>\n",
       "      <td>8098.0</td>\n",
       "      <td>12454.0</td>\n",
       "      <td>23961.0</td>\n",
       "    </tr>\n",
       "  </tbody>\n",
       "</table>\n",
       "</div>"
      ],
      "text/plain": [
       "           count         mean          std   min     25%     50%      75%  \\\n",
       "Gender                                                                      \n",
       "F       135809.0  8734.565765  4767.233289  12.0  5433.0  7914.0  11400.0   \n",
       "M       414259.0  9437.526040  5092.186210  12.0  5863.0  8098.0  12454.0   \n",
       "\n",
       "            max  \n",
       "Gender           \n",
       "F       23959.0  \n",
       "M       23961.0  "
      ]
     },
     "execution_count": 14,
     "metadata": {},
     "output_type": "execute_result"
    }
   ],
   "source": [
    "df.groupby(['Gender'])['Purchase'].describe()"
   ]
  },
  {
   "cell_type": "code",
   "execution_count": 15,
   "metadata": {},
   "outputs": [
    {
     "data": {
      "text/plain": [
       "<AxesSubplot:xlabel='Gender', ylabel='Purchase'>"
      ]
     },
     "execution_count": 15,
     "metadata": {},
     "output_type": "execute_result"
    }
   ],
   "source": [
    "import seaborn as sbn\n",
    "sbn.boxplot(x='Gender', y='Purchase', data=df)\n"
   ]
  },
  {
   "cell_type": "markdown",
   "metadata": {},
   "source": [
    "# Male has more median purchasing power"
   ]
  },
  {
   "cell_type": "code",
   "execution_count": 16,
   "metadata": {},
   "outputs": [
    {
     "data": {
      "text/plain": [
       "<seaborn.axisgrid.FacetGrid at 0x2958e00f5c0>"
      ]
     },
     "execution_count": 16,
     "metadata": {},
     "output_type": "execute_result"
    },
    {
     "data": {
      "image/png": "[encoded data removed]",
      "text/plain": [
       "<Figure size 404.875x360 with 1 Axes>"
      ]
     },
     "metadata": {},
     "output_type": "display_data"
    }
   ],
   "source": [
    "sbn.displot( x='Purchase', data=df, hue='Gender', bins=25)"
   ]
  },
  {
   "cell_type": "code",
   "execution_count": 17,
   "metadata": {},
   "outputs": [
    {
     "data": {
      "text/html": [
       "<div>\n",
       "<style scoped>\n",
       "    .dataframe tbody tr th:only-of-type {\n",
       "        vertical-align: middle;\n",
       "    }\n",
       "\n",
       "    .dataframe tbody tr th {\n",
       "        vertical-align: top;\n",
       "    }\n",
       "\n",
       "    .dataframe thead th {\n",
       "        text-align: right;\n",
       "    }\n",
       "</style>\n",
       "<table border=\"1\" class=\"dataframe\">\n",
       "  <thead>\n",
       "    <tr style=\"text-align: right;\">\n",
       "      <th></th>\n",
       "      <th>count</th>\n",
       "      <th>mean</th>\n",
       "      <th>std</th>\n",
       "      <th>min</th>\n",
       "      <th>25%</th>\n",
       "      <th>50%</th>\n",
       "      <th>75%</th>\n",
       "      <th>max</th>\n",
       "    </tr>\n",
       "    <tr>\n",
       "      <th>Gender</th>\n",
       "      <th></th>\n",
       "      <th></th>\n",
       "      <th></th>\n",
       "      <th></th>\n",
       "      <th></th>\n",
       "      <th></th>\n",
       "      <th></th>\n",
       "      <th></th>\n",
       "    </tr>\n",
       "  </thead>\n",
       "  <tbody>\n",
       "    <tr>\n",
       "      <th>F</th>\n",
       "      <td>56.0</td>\n",
       "      <td>8788.964286</td>\n",
       "      <td>4752.869323</td>\n",
       "      <td>1089.0</td>\n",
       "      <td>5782.5</td>\n",
       "      <td>7876.0</td>\n",
       "      <td>9973.75</td>\n",
       "      <td>20613.0</td>\n",
       "    </tr>\n",
       "    <tr>\n",
       "      <th>M</th>\n",
       "      <td>244.0</td>\n",
       "      <td>9531.377049</td>\n",
       "      <td>5200.332437</td>\n",
       "      <td>50.0</td>\n",
       "      <td>5961.5</td>\n",
       "      <td>8101.5</td>\n",
       "      <td>12102.50</td>\n",
       "      <td>23958.0</td>\n",
       "    </tr>\n",
       "  </tbody>\n",
       "</table>\n",
       "</div>"
      ],
      "text/plain": [
       "        count         mean          std     min     25%     50%       75%  \\\n",
       "Gender                                                                      \n",
       "F        56.0  8788.964286  4752.869323  1089.0  5782.5  7876.0   9973.75   \n",
       "M       244.0  9531.377049  5200.332437    50.0  5961.5  8101.5  12102.50   \n",
       "\n",
       "            max  \n",
       "Gender           \n",
       "F       20613.0  \n",
       "M       23958.0  "
      ]
     },
     "execution_count": 17,
     "metadata": {},
     "output_type": "execute_result"
    }
   ],
   "source": [
    "df.sample(300).groupby(['Gender'])['Purchase'].describe()\n"
   ]
  },
  {
   "cell_type": "code",
   "execution_count": 18,
   "metadata": {},
   "outputs": [
    {
     "data": {
      "text/plain": [
       "Gender\n",
       "F    8030.151163\n",
       "M    9284.149533\n",
       "Name: Purchase, dtype: float64"
      ]
     },
     "execution_count": 18,
     "metadata": {},
     "output_type": "execute_result"
    }
   ],
   "source": [
    "df.sample(300).groupby(['Gender'])['Purchase'].mean()"
   ]
  },
  {
   "cell_type": "code",
   "execution_count": 19,
   "metadata": {},
   "outputs": [
    {
     "data": {
      "text/plain": [
       "array([ 7969, 15227, 19215, ...,   494,   473,   368])"
      ]
     },
     "execution_count": 19,
     "metadata": {},
     "output_type": "execute_result"
    }
   ],
   "source": [
    "dfmale=np.array(df[df['Gender']=='M']['Purchase'])\n",
    "#type(dfmale)\n",
    "dfmale"
   ]
  },
  {
   "cell_type": "code",
   "execution_count": 20,
   "metadata": {},
   "outputs": [],
   "source": [
    "maleexpensemean=[df[df['Gender']=='M']['Purchase'].sample(300).mean() for i in range(1000)]\n"
   ]
  },
  {
   "cell_type": "code",
   "execution_count": 21,
   "metadata": {},
   "outputs": [
    {
     "data": {
      "text/plain": [
       "<seaborn.axisgrid.FacetGrid at 0x2958e044940>"
      ]
     },
     "execution_count": 21,
     "metadata": {},
     "output_type": "execute_result"
    },
    {
     "data": {
      "image/png": "[encoded data removed]",
      "text/plain": [
       "<Figure size 360x360 with 1 Axes>"
      ]
     },
     "metadata": {},
     "output_type": "display_data"
    }
   ],
   "source": [
    "sbn.displot(maleexpensemean,bins=100, kde=True)\n"
   ]
  },
  {
   "cell_type": "code",
   "execution_count": 22,
   "metadata": {},
   "outputs": [
    {
     "data": {
      "text/plain": [
       "9440.340713333335"
      ]
     },
     "execution_count": 22,
     "metadata": {},
     "output_type": "execute_result"
    }
   ],
   "source": [
    "#x bar of male expenses mean\n",
    "mx=np.array(maleexpensemean).mean()\n",
    "mx"
   ]
  },
  {
   "cell_type": "code",
   "execution_count": 23,
   "metadata": {},
   "outputs": [
    {
     "data": {
      "text/plain": [
       "297.5574915558001"
      ]
     },
     "execution_count": 23,
     "metadata": {},
     "output_type": "execute_result"
    }
   ],
   "source": [
    "#std of male expenses mean\n",
    "mstd=np.array(maleexpensemean).std()\n",
    "mstd"
   ]
  },
  {
   "cell_type": "code",
   "execution_count": 24,
   "metadata": {},
   "outputs": [
    {
     "name": "stdout",
     "output_type": "stream",
     "text": [
      "(lower limit,upperlimit): (9421.897908933346, 9458.783517733324)\n"
     ]
    }
   ],
   "source": [
    "# 95% confidence interval for male expenses\n",
    "v=(mx-1.96*(mstd/np.sqrt(1000)),mx+1.96*(mstd/np.sqrt(1000)))\n",
    "print(\"(lower limit,upperlimit):\",v)"
   ]
  },
  {
   "cell_type": "code",
   "execution_count": 25,
   "metadata": {},
   "outputs": [],
   "source": [
    "femaleexpensemean=[df[df['Gender']=='F']['Purchase'].sample(300).mean() for i in range(1000)]\n"
   ]
  },
  {
   "cell_type": "code",
   "execution_count": 26,
   "metadata": {},
   "outputs": [
    {
     "data": {
      "text/plain": [
       "<seaborn.axisgrid.FacetGrid at 0x29611c8e5f8>"
      ]
     },
     "execution_count": 26,
     "metadata": {},
     "output_type": "execute_result"
    },
    {
     "data": {
      "image/png": "[encoded data removed]",
      "text/plain": [
       "<Figure size 360x360 with 1 Axes>"
      ]
     },
     "metadata": {},
     "output_type": "display_data"
    }
   ],
   "source": [
    "sbn.displot(femaleexpensemean,bins=100, kde=True)"
   ]
  },
  {
   "cell_type": "code",
   "execution_count": 27,
   "metadata": {},
   "outputs": [
    {
     "data": {
      "text/plain": [
       "8739.114596666668"
      ]
     },
     "execution_count": 27,
     "metadata": {},
     "output_type": "execute_result"
    }
   ],
   "source": [
    "#x bar of female expenses mean\n",
    "femx=np.array(femaleexpensemean).mean()\n",
    "femx"
   ]
  },
  {
   "cell_type": "code",
   "execution_count": 28,
   "metadata": {},
   "outputs": [
    {
     "data": {
      "text/plain": [
       "271.3767186897489"
      ]
     },
     "execution_count": 28,
     "metadata": {},
     "output_type": "execute_result"
    }
   ],
   "source": [
    "#std of female expenses mean\n",
    "femstd=np.array(femaleexpensemean).std()\n",
    "femstd"
   ]
  },
  {
   "cell_type": "code",
   "execution_count": 29,
   "metadata": {
    "scrolled": true
   },
   "outputs": [
    {
     "name": "stdout",
     "output_type": "stream",
     "text": [
      "(lower limit,upperlimit): (8722.294493380621, 8755.934699952715)\n"
     ]
    }
   ],
   "source": [
    "# 95% confidence interval for female expenses\n",
    "v=(femx-1.96*(femstd/np.sqrt(1000)),femx+1.96*(femstd/np.sqrt(1000)))\n",
    "print(\"(lower limit,upperlimit):\",v)"
   ]
  },
  {
   "cell_type": "markdown",
   "metadata": {},
   "source": [
    "# There is no overlapping between male and female spending and male have higher starting and ending Purchasing range"
   ]
  },
  {
   "cell_type": "code",
   "execution_count": 30,
   "metadata": {},
   "outputs": [
    {
     "data": {
      "text/plain": [
       "1     115547\n",
       "5     108972\n",
       "8      80367\n",
       "11     19548\n",
       "2      18206\n",
       "6      15907\n",
       "3      14207\n",
       "4       8114\n",
       "16      7426\n",
       "15      5244\n",
       "13      4087\n",
       "10      3963\n",
       "7       2778\n",
       "18      2743\n",
       "12      2415\n",
       "20      1827\n",
       "19      1152\n",
       "14       900\n",
       "17       516\n",
       "9        340\n",
       "Name: Product_Category, dtype: int64"
      ]
     },
     "execution_count": 30,
     "metadata": {},
     "output_type": "execute_result"
    }
   ],
   "source": [
    "df[df['Gender']=='M']['Product_Category'].value_counts()"
   ]
  },
  {
   "cell_type": "code",
   "execution_count": 31,
   "metadata": {},
   "outputs": [
    {
     "data": {
      "text/plain": [
       "B    173377\n",
       "C    128866\n",
       "A    112016\n",
       "Name: City_Category, dtype: int64"
      ]
     },
     "execution_count": 31,
     "metadata": {},
     "output_type": "execute_result"
    }
   ],
   "source": [
    "df[df['Gender']=='M']['City_Category'].value_counts()"
   ]
  },
  {
   "cell_type": "code",
   "execution_count": 32,
   "metadata": {},
   "outputs": [],
   "source": [
    "dfmarried=np.array(df[df['Marital_Status']=='1']['Purchase'])"
   ]
  },
  {
   "cell_type": "code",
   "execution_count": 33,
   "metadata": {},
   "outputs": [],
   "source": [
    "mariedexpensemean=[df[df['Marital_Status']=='1']['Purchase'].sample(300).mean() for i in range(1000)]\n"
   ]
  },
  {
   "cell_type": "code",
   "execution_count": 34,
   "metadata": {},
   "outputs": [
    {
     "data": {
      "text/plain": [
       "<seaborn.axisgrid.FacetGrid at 0x29611dc2828>"
      ]
     },
     "execution_count": 34,
     "metadata": {},
     "output_type": "execute_result"
    },
    {
     "data": {
      "image/png": "[encoded data removed]",
      "text/plain": [
       "<Figure size 360x360 with 1 Axes>"
      ]
     },
     "metadata": {},
     "output_type": "display_data"
    }
   ],
   "source": [
    "sbn.displot(mariedexpensemean,bins=100, kde=True)"
   ]
  },
  {
   "cell_type": "code",
   "execution_count": 35,
   "metadata": {},
   "outputs": [
    {
     "data": {
      "text/plain": [
       "288.6900253649099"
      ]
     },
     "execution_count": 35,
     "metadata": {},
     "output_type": "execute_result"
    }
   ],
   "source": [
    "#std of married expenses mean\n",
    "mariedexpensestd=np.array(mariedexpensemean).std()\n",
    "mariedexpensestd"
   ]
  },
  {
   "cell_type": "code",
   "execution_count": 36,
   "metadata": {},
   "outputs": [
    {
     "name": "stdout",
     "output_type": "stream",
     "text": [
      "(lower limit,upperlimit): (9251.403863515337, 9287.190249817995)\n"
     ]
    }
   ],
   "source": [
    "# 95% confidence interval for mariedexpense\n",
    "v=(np.array(mariedexpensemean).mean()-1.96*(mariedexpensestd/np.sqrt(1000)),np.array(mariedexpensemean).mean()+1.96*(mariedexpensestd/np.sqrt(1000)))\n",
    "print(\"(lower limit,upperlimit):\",v)"
   ]
  },
  {
   "cell_type": "code",
   "execution_count": 37,
   "metadata": {},
   "outputs": [],
   "source": [
    "dfnotmarried=np.array(df[df['Marital_Status']=='0']['Purchase'])"
   ]
  },
  {
   "cell_type": "code",
   "execution_count": 38,
   "metadata": {},
   "outputs": [],
   "source": [
    "notmariedexpensemean=[df[df['Marital_Status']=='0']['Purchase'].sample(300).mean() for i in range(1000)]\n"
   ]
  },
  {
   "cell_type": "code",
   "execution_count": 39,
   "metadata": {},
   "outputs": [
    {
     "data": {
      "text/plain": [
       "<seaborn.axisgrid.FacetGrid at 0x29611fd65c0>"
      ]
     },
     "execution_count": 39,
     "metadata": {},
     "output_type": "execute_result"
    },
    {
     "data": {
      "image/png": "[encoded data removed]",
      "text/plain": [
       "<Figure size 360x360 with 1 Axes>"
      ]
     },
     "metadata": {},
     "output_type": "display_data"
    }
   ],
   "source": [
    "sbn.displot(notmariedexpensemean,bins=100, kde=True)"
   ]
  },
  {
   "cell_type": "code",
   "execution_count": 40,
   "metadata": {},
   "outputs": [
    {
     "data": {
      "text/plain": [
       "281.1206946112804"
      ]
     },
     "execution_count": 40,
     "metadata": {},
     "output_type": "execute_result"
    }
   ],
   "source": [
    "#std of notmarried expenses mean\n",
    "notmariedexpensestd=np.array(notmariedexpensemean).std()\n",
    "notmariedexpensestd"
   ]
  },
  {
   "cell_type": "code",
   "execution_count": 41,
   "metadata": {},
   "outputs": [
    {
     "name": "stdout",
     "output_type": "stream",
     "text": [
      "(lower limit,upperlimit): (9249.872115496011, 9284.72019783732)\n"
     ]
    }
   ],
   "source": [
    "# 95% confidence interval for notmariedexpense\n",
    "v=(np.array(notmariedexpensemean).mean()-1.96*(notmariedexpensestd/np.sqrt(1000)),np.array(notmariedexpensemean).mean()+1.96*(notmariedexpensestd/np.sqrt(1000)))\n",
    "print(\"(lower limit,upperlimit):\",v)"
   ]
  },
  {
   "cell_type": "markdown",
   "metadata": {},
   "source": [
    "#There is overlap between married and unmarried expenses in range (9246.80037498238, 9263.503800463941) and unmarried people have high starting and ending purchasing power"
   ]
  },
  {
   "cell_type": "code",
   "execution_count": 42,
   "metadata": {},
   "outputs": [
    {
     "data": {
      "text/plain": [
       "array(['0-17', '55+', '26-35', '46-50', '51-55', '36-45', '18-25'],\n",
       "      dtype=object)"
      ]
     },
     "execution_count": 42,
     "metadata": {},
     "output_type": "execute_result"
    }
   ],
   "source": [
    "df['Age'].unique()"
   ]
  },
  {
   "cell_type": "code",
   "execution_count": 43,
   "metadata": {},
   "outputs": [],
   "source": [
    "# dataframe below17\n",
    "below17=[df[df['Age']=='0-17']['Purchase']]"
   ]
  },
  {
   "cell_type": "code",
   "execution_count": 44,
   "metadata": {},
   "outputs": [],
   "source": [
    "below17mean=[df[df['Age']=='0-17']['Purchase'].sample(300).mean() for i in range(1000)]\n"
   ]
  },
  {
   "cell_type": "code",
   "execution_count": 45,
   "metadata": {},
   "outputs": [
    {
     "data": {
      "text/plain": [
       "<seaborn.axisgrid.FacetGrid at 0x2958e0496a0>"
      ]
     },
     "execution_count": 45,
     "metadata": {},
     "output_type": "execute_result"
    },
    {
     "data": {
      "image/png": "[encoded data removed]",
      "text/plain": [
       "<Figure size 360x360 with 1 Axes>"
      ]
     },
     "metadata": {},
     "output_type": "display_data"
    }
   ],
   "source": [
    "sbn.displot(below17mean,bins=100, kde=True)"
   ]
  },
  {
   "cell_type": "code",
   "execution_count": 46,
   "metadata": {},
   "outputs": [
    {
     "data": {
      "text/plain": [
       "293.53105879458207"
      ]
     },
     "execution_count": 46,
     "metadata": {},
     "output_type": "execute_result"
    }
   ],
   "source": [
    "#std of below17 expenses mean\n",
    "below17expensestd=np.array(below17mean).std()\n",
    "below17expensestd"
   ]
  },
  {
   "cell_type": "code",
   "execution_count": 47,
   "metadata": {},
   "outputs": [
    {
     "name": "stdout",
     "output_type": "stream",
     "text": [
      "(lower limit,upperlimit): (8912.06196315475, 8948.448450178583)\n"
     ]
    }
   ],
   "source": [
    "# 95% confidence interval for below17expense\n",
    "v=(np.array(below17mean).mean()-1.96*(below17expensestd/np.sqrt(1000)),np.array(below17mean).mean()+1.96*(below17expensestd/np.sqrt(1000)))\n",
    "print(\"(lower limit,upperlimit):\",v)"
   ]
  },
  {
   "cell_type": "code",
   "execution_count": 48,
   "metadata": {},
   "outputs": [],
   "source": [
    "#dataframe of expenses between 18 to 25"
   ]
  },
  {
   "cell_type": "code",
   "execution_count": 49,
   "metadata": {},
   "outputs": [],
   "source": [
    "between18to25=[df[df['Age']=='18-25']['Purchase']]"
   ]
  },
  {
   "cell_type": "code",
   "execution_count": 50,
   "metadata": {},
   "outputs": [],
   "source": [
    "between18to25mean=[df[df['Age']=='18-25']['Purchase'].sample(300).mean() for i in range(1000)]\n"
   ]
  },
  {
   "cell_type": "code",
   "execution_count": 51,
   "metadata": {},
   "outputs": [
    {
     "data": {
      "text/plain": [
       "<seaborn.axisgrid.FacetGrid at 0x295fff1aac8>"
      ]
     },
     "execution_count": 51,
     "metadata": {},
     "output_type": "execute_result"
    },
    {
     "data": {
      "image/png": "[encoded data removed]",
      "text/plain": [
       "<Figure size 360x360 with 1 Axes>"
      ]
     },
     "metadata": {},
     "output_type": "display_data"
    }
   ],
   "source": [
    "sbn.displot(between18to25mean,bins=100, kde=True)"
   ]
  },
  {
   "cell_type": "code",
   "execution_count": 52,
   "metadata": {},
   "outputs": [
    {
     "data": {
      "text/plain": [
       "280.6321960813303"
      ]
     },
     "execution_count": 52,
     "metadata": {},
     "output_type": "execute_result"
    }
   ],
   "source": [
    "#std of between18to25 expenses mean\n",
    "between18to25std=np.array(between18to25mean).std()\n",
    "between18to25std"
   ]
  },
  {
   "cell_type": "code",
   "execution_count": 53,
   "metadata": {},
   "outputs": [
    {
     "name": "stdout",
     "output_type": "stream",
     "text": [
      "(lower limit,upperlimit): (9154.174039615253, 9188.961567051418)\n"
     ]
    }
   ],
   "source": [
    "# 95% confidence interval for between18to25\n",
    "v=(np.array(between18to25mean).mean()-1.96*(between18to25std/np.sqrt(1000)),np.array(between18to25mean).mean()+1.96*(between18to25std/np.sqrt(1000)))\n",
    "print(\"(lower limit,upperlimit):\",v)"
   ]
  },
  {
   "cell_type": "code",
   "execution_count": 54,
   "metadata": {},
   "outputs": [],
   "source": [
    "#df of age between 26-35"
   ]
  },
  {
   "cell_type": "code",
   "execution_count": 55,
   "metadata": {},
   "outputs": [],
   "source": [
    "between26to35=[df[df['Age']=='26-35']['Purchase']]"
   ]
  },
  {
   "cell_type": "code",
   "execution_count": 56,
   "metadata": {},
   "outputs": [
    {
     "data": {
      "text/plain": [
       "[8759.21,\n",
       " 9206.686666666666,\n",
       " 9441.096666666666,\n",
       " 9971.02,\n",
       " 8930.193333333333,\n",
       " 9027.443333333333,\n",
       " 9067.79,\n",
       " 9241.61,\n",
       " 9507.21,\n",
       " 9529.446666666667,\n",
       " 9698.046666666667,\n",
       " 9145.563333333334,\n",
       " 9239.56,\n",
       " 9249.893333333333,\n",
       " 8730.433333333332,\n",
       " 9023.01,\n",
       " 10348.233333333334,\n",
       " 9252.556666666667,\n",
       " 8882.413333333334,\n",
       " 10067.37,\n",
       " 9215.98,\n",
       " 9463.733333333334,\n",
       " 9545.22,\n",
       " 9115.966666666667,\n",
       " 9146.28,\n",
       " 9145.803333333333,\n",
       " 9274.826666666666,\n",
       " 9153.853333333333,\n",
       " 9335.67,\n",
       " 9139.393333333333,\n",
       " 9371.813333333334,\n",
       " 9456.886666666667,\n",
       " 8951.936666666666,\n",
       " 9365.793333333333,\n",
       " 9217.616666666667,\n",
       " 9217.943333333333,\n",
       " 8831.786666666667,\n",
       " 9413.11,\n",
       " 9354.133333333333,\n",
       " 9192.083333333334,\n",
       " 9606.49,\n",
       " 9155.883333333333,\n",
       " 9252.033333333333,\n",
       " 9272.51,\n",
       " 9110.59,\n",
       " 9297.813333333334,\n",
       " 9551.813333333334,\n",
       " 9585.973333333333,\n",
       " 9611.846666666666,\n",
       " 9299.22,\n",
       " 8567.16,\n",
       " 9321.843333333334,\n",
       " 9262.836666666666,\n",
       " 10087.236666666666,\n",
       " 9381.826666666666,\n",
       " 9013.923333333334,\n",
       " 9324.94,\n",
       " 9739.9,\n",
       " 9557.7,\n",
       " 9369.933333333332,\n",
       " 9684.336666666666,\n",
       " 9138.576666666666,\n",
       " 9438.83,\n",
       " 9594.43,\n",
       " 9089.733333333334,\n",
       " 9235.95,\n",
       " 9284.833333333334,\n",
       " 9272.906666666666,\n",
       " 9113.453333333333,\n",
       " 9350.35,\n",
       " 9431.53,\n",
       " 9164.21,\n",
       " 9169.036666666667,\n",
       " 9117.803333333333,\n",
       " 8933.01,\n",
       " 9517.406666666666,\n",
       " 9404.836666666666,\n",
       " 9390.333333333334,\n",
       " 9233.863333333333,\n",
       " 9254.726666666667,\n",
       " 9098.59,\n",
       " 9064.62,\n",
       " 9571.666666666666,\n",
       " 9004.686666666666,\n",
       " 9085.383333333333,\n",
       " 8827.513333333334,\n",
       " 8981.636666666667,\n",
       " 8868.296666666667,\n",
       " 9138.086666666666,\n",
       " 9555.116666666667,\n",
       " 8867.533333333333,\n",
       " 9351.41,\n",
       " 9342.826666666666,\n",
       " 9456.52,\n",
       " 9413.5,\n",
       " 9245.253333333334,\n",
       " 9080.926666666666,\n",
       " 9441.0,\n",
       " 9104.45,\n",
       " 9395.71,\n",
       " 9138.746666666666,\n",
       " 9590.66,\n",
       " 9475.906666666666,\n",
       " 9060.793333333333,\n",
       " 9576.333333333334,\n",
       " 9334.83,\n",
       " 8883.023333333333,\n",
       " 9181.74,\n",
       " 9170.686666666666,\n",
       " 9240.056666666667,\n",
       " 9563.5,\n",
       " 9570.083333333334,\n",
       " 9346.693333333333,\n",
       " 9580.19,\n",
       " 9434.33,\n",
       " 9170.376666666667,\n",
       " 9161.9,\n",
       " 9475.386666666667,\n",
       " 9759.143333333333,\n",
       " 8867.23,\n",
       " 9028.493333333334,\n",
       " 9378.743333333334,\n",
       " 8989.843333333334,\n",
       " 9530.473333333333,\n",
       " 9561.59,\n",
       " 9416.886666666667,\n",
       " 9018.57,\n",
       " 9472.233333333334,\n",
       " 8917.543333333333,\n",
       " 9326.173333333334,\n",
       " 9581.996666666666,\n",
       " 9887.0,\n",
       " 9515.34,\n",
       " 9377.903333333334,\n",
       " 9521.606666666667,\n",
       " 9390.133333333333,\n",
       " 9310.336666666666,\n",
       " 9415.25,\n",
       " 9120.086666666666,\n",
       " 9242.2,\n",
       " 9358.506666666666,\n",
       " 8844.446666666667,\n",
       " 9456.803333333333,\n",
       " 9335.45,\n",
       " 9109.403333333334,\n",
       " 9008.67,\n",
       " 9089.99,\n",
       " 8930.006666666666,\n",
       " 9399.773333333333,\n",
       " 9604.293333333333,\n",
       " 9008.746666666666,\n",
       " 9516.26,\n",
       " 9006.123333333333,\n",
       " 9518.63,\n",
       " 9101.97,\n",
       " 9008.936666666666,\n",
       " 9394.573333333334,\n",
       " 9207.156666666666,\n",
       " 9104.036666666667,\n",
       " 9396.153333333334,\n",
       " 9541.56,\n",
       " 9756.726666666667,\n",
       " 9415.446666666667,\n",
       " 9554.74,\n",
       " 9065.243333333334,\n",
       " 9207.456666666667,\n",
       " 8919.456666666667,\n",
       " 9120.783333333333,\n",
       " 9053.966666666667,\n",
       " 9205.536666666667,\n",
       " 9072.27,\n",
       " 9115.61,\n",
       " 9238.133333333333,\n",
       " 9264.04,\n",
       " 9687.86,\n",
       " 9209.38,\n",
       " 9569.52,\n",
       " 8554.876666666667,\n",
       " 8894.083333333334,\n",
       " 9239.423333333334,\n",
       " 9473.166666666666,\n",
       " 9567.723333333333,\n",
       " 9868.83,\n",
       " 9422.153333333334,\n",
       " 9583.096666666666,\n",
       " 9431.533333333333,\n",
       " 9816.866666666667,\n",
       " 9503.596666666666,\n",
       " 8892.503333333334,\n",
       " 9612.023333333333,\n",
       " 8897.776666666667,\n",
       " 9645.196666666667,\n",
       " 9835.476666666667,\n",
       " 9162.06,\n",
       " 9141.98,\n",
       " 9677.586666666666,\n",
       " 9647.526666666667,\n",
       " 9175.836666666666,\n",
       " 9544.246666666666,\n",
       " 9439.386666666667,\n",
       " 9145.706666666667,\n",
       " 9514.37,\n",
       " 9215.633333333333,\n",
       " 9013.616666666667,\n",
       " 9194.546666666667,\n",
       " 9388.633333333333,\n",
       " 8702.806666666667,\n",
       " 9266.21,\n",
       " 9160.04,\n",
       " 9171.933333333332,\n",
       " 9424.78,\n",
       " 8933.846666666666,\n",
       " 9354.263333333334,\n",
       " 9576.553333333333,\n",
       " 9420.31,\n",
       " 9348.183333333332,\n",
       " 9239.83,\n",
       " 8865.703333333333,\n",
       " 9215.243333333334,\n",
       " 8925.29,\n",
       " 9357.21,\n",
       " 9417.71,\n",
       " 9596.063333333334,\n",
       " 9128.283333333333,\n",
       " 9158.2,\n",
       " 9275.41,\n",
       " 9019.713333333333,\n",
       " 9205.35,\n",
       " 9061.256666666666,\n",
       " 9483.58,\n",
       " 9330.236666666666,\n",
       " 9162.32,\n",
       " 9260.953333333333,\n",
       " 9315.176666666666,\n",
       " 9766.446666666667,\n",
       " 9250.09,\n",
       " 9182.226666666667,\n",
       " 9006.256666666666,\n",
       " 9151.823333333334,\n",
       " 9762.266666666666,\n",
       " 9991.21,\n",
       " 9414.443333333333,\n",
       " 9376.413333333334,\n",
       " 9115.88,\n",
       " 9251.526666666667,\n",
       " 9678.453333333333,\n",
       " 9426.186666666666,\n",
       " 9328.183333333332,\n",
       " 9770.723333333333,\n",
       " 9046.426666666666,\n",
       " 9818.51,\n",
       " 9328.53,\n",
       " 9139.823333333334,\n",
       " 9254.473333333333,\n",
       " 9262.49,\n",
       " 9314.773333333333,\n",
       " 9387.233333333334,\n",
       " 9747.143333333333,\n",
       " 8932.056666666667,\n",
       " 8984.76,\n",
       " 9393.726666666667,\n",
       " 9251.81,\n",
       " 9109.43,\n",
       " 9171.98,\n",
       " 9499.776666666667,\n",
       " 9327.746666666666,\n",
       " 9265.016666666666,\n",
       " 9058.486666666666,\n",
       " 9190.083333333334,\n",
       " 9100.14,\n",
       " 9366.333333333334,\n",
       " 9417.926666666666,\n",
       " 9415.296666666667,\n",
       " 9297.233333333334,\n",
       " 9479.983333333334,\n",
       " 8953.29,\n",
       " 9036.48,\n",
       " 9107.26,\n",
       " 9194.953333333333,\n",
       " 9738.313333333334,\n",
       " 9405.316666666668,\n",
       " 9158.483333333334,\n",
       " 9941.14,\n",
       " 9178.886666666667,\n",
       " 9593.613333333333,\n",
       " 9707.65,\n",
       " 9371.27,\n",
       " 9327.27,\n",
       " 8865.516666666666,\n",
       " 9453.506666666666,\n",
       " 9208.52,\n",
       " 9597.9,\n",
       " 9114.783333333333,\n",
       " 9313.116666666667,\n",
       " 8977.016666666666,\n",
       " 8870.173333333334,\n",
       " 9486.643333333333,\n",
       " 9507.886666666667,\n",
       " 9300.283333333333,\n",
       " 8894.246666666666,\n",
       " 9029.183333333332,\n",
       " 9104.513333333334,\n",
       " 9228.713333333333,\n",
       " 9583.82,\n",
       " 9335.62,\n",
       " 9149.973333333333,\n",
       " 9637.436666666666,\n",
       " 9531.826666666666,\n",
       " 9721.956666666667,\n",
       " 9947.673333333334,\n",
       " 9336.03,\n",
       " 9786.94,\n",
       " 9167.586666666666,\n",
       " 9576.36,\n",
       " 9724.413333333334,\n",
       " 9325.303333333333,\n",
       " 8902.966666666667,\n",
       " 9489.226666666667,\n",
       " 9388.946666666667,\n",
       " 9088.846666666666,\n",
       " 9278.98,\n",
       " 9166.88,\n",
       " 9259.41,\n",
       " 9378.543333333333,\n",
       " 9208.856666666667,\n",
       " 8948.186666666666,\n",
       " 9151.323333333334,\n",
       " 9130.71,\n",
       " 8652.1,\n",
       " 9292.783333333333,\n",
       " 8910.263333333334,\n",
       " 9061.223333333333,\n",
       " 9097.986666666666,\n",
       " 9370.16,\n",
       " 9014.906666666666,\n",
       " 8835.953333333333,\n",
       " 9442.773333333333,\n",
       " 9072.096666666666,\n",
       " 10170.96,\n",
       " 9178.896666666667,\n",
       " 9432.693333333333,\n",
       " 9269.306666666667,\n",
       " 9263.33,\n",
       " 8431.32,\n",
       " 9047.996666666666,\n",
       " 9202.586666666666,\n",
       " 9484.076666666666,\n",
       " 9171.433333333332,\n",
       " 9848.02,\n",
       " 9190.673333333334,\n",
       " 9456.93,\n",
       " 8818.486666666666,\n",
       " 9231.243333333334,\n",
       " 9398.106666666667,\n",
       " 9187.103333333333,\n",
       " 9453.246666666666,\n",
       " 9062.54,\n",
       " 9043.866666666667,\n",
       " 9351.616666666667,\n",
       " 9505.816666666668,\n",
       " 8948.173333333334,\n",
       " 9160.216666666667,\n",
       " 8892.516666666666,\n",
       " 9642.016666666666,\n",
       " 9136.86,\n",
       " 9456.53,\n",
       " 9193.603333333333,\n",
       " 8804.21,\n",
       " 8858.946666666667,\n",
       " 9275.13,\n",
       " 9447.616666666667,\n",
       " 9123.406666666666,\n",
       " 9318.653333333334,\n",
       " 8855.976666666667,\n",
       " 9212.33,\n",
       " 9494.716666666667,\n",
       " 8877.436666666666,\n",
       " 9420.273333333333,\n",
       " 9412.1,\n",
       " 8965.903333333334,\n",
       " 9389.373333333333,\n",
       " 9414.136666666667,\n",
       " 9440.03,\n",
       " 9509.473333333333,\n",
       " 8780.49,\n",
       " 9253.556666666667,\n",
       " 9893.39,\n",
       " 8905.283333333333,\n",
       " 9240.55,\n",
       " 8950.96,\n",
       " 9264.376666666667,\n",
       " 9099.53,\n",
       " 9013.336666666666,\n",
       " 9034.31,\n",
       " 8921.69,\n",
       " 9741.14,\n",
       " 9574.766666666666,\n",
       " 9179.413333333334,\n",
       " 9118.143333333333,\n",
       " 8914.2,\n",
       " 9646.393333333333,\n",
       " 9147.506666666666,\n",
       " 8775.583333333334,\n",
       " 9603.816666666668,\n",
       " 9013.373333333333,\n",
       " 9019.353333333333,\n",
       " 9283.966666666667,\n",
       " 8861.896666666667,\n",
       " 9029.49,\n",
       " 8369.503333333334,\n",
       " 9261.093333333334,\n",
       " 9442.973333333333,\n",
       " 9247.646666666667,\n",
       " 9237.186666666666,\n",
       " 9127.13,\n",
       " 8955.85,\n",
       " 9480.76,\n",
       " 9503.816666666668,\n",
       " 9036.65,\n",
       " 9547.886666666667,\n",
       " 9495.536666666667,\n",
       " 9229.276666666667,\n",
       " 9186.75,\n",
       " 9339.293333333333,\n",
       " 9210.503333333334,\n",
       " 9947.153333333334,\n",
       " 9424.056666666667,\n",
       " 9650.053333333333,\n",
       " 9083.113333333333,\n",
       " 8968.586666666666,\n",
       " 8979.646666666667,\n",
       " 8958.803333333333,\n",
       " 9549.613333333333,\n",
       " 9224.863333333333,\n",
       " 8575.0,\n",
       " 8611.456666666667,\n",
       " 9396.393333333333,\n",
       " 9083.463333333333,\n",
       " 9282.326666666666,\n",
       " 9833.256666666666,\n",
       " 9673.093333333334,\n",
       " 9301.916666666666,\n",
       " 8546.706666666667,\n",
       " 10208.29,\n",
       " 8771.413333333334,\n",
       " 9404.656666666666,\n",
       " 9362.66,\n",
       " 9063.87,\n",
       " 9482.193333333333,\n",
       " 9502.966666666667,\n",
       " 9206.626666666667,\n",
       " 9025.75,\n",
       " 9092.476666666667,\n",
       " 9416.92,\n",
       " 9209.406666666666,\n",
       " 9365.96,\n",
       " 9025.706666666667,\n",
       " 9005.41,\n",
       " 9285.28,\n",
       " 9246.433333333332,\n",
       " 9163.853333333333,\n",
       " 9256.483333333334,\n",
       " 9204.94,\n",
       " 8889.44,\n",
       " 9385.826666666666,\n",
       " 9446.316666666668,\n",
       " 9307.803333333333,\n",
       " 9272.343333333334,\n",
       " 9812.976666666667,\n",
       " 9568.65,\n",
       " 8992.083333333334,\n",
       " 9157.503333333334,\n",
       " 9147.626666666667,\n",
       " 9334.376666666667,\n",
       " 9673.513333333334,\n",
       " 8658.276666666667,\n",
       " 9396.386666666667,\n",
       " 9309.586666666666,\n",
       " 9063.833333333334,\n",
       " 9357.233333333334,\n",
       " 9156.62,\n",
       " 9305.61,\n",
       " 9521.023333333333,\n",
       " 9817.436666666666,\n",
       " 9203.623333333333,\n",
       " 9017.316666666668,\n",
       " 9276.986666666666,\n",
       " 8877.903333333334,\n",
       " 8883.973333333333,\n",
       " 9681.84,\n",
       " 9242.046666666667,\n",
       " 9601.4,\n",
       " 9038.483333333334,\n",
       " 9733.95,\n",
       " 9293.9,\n",
       " 9382.66,\n",
       " 9245.98,\n",
       " 9286.25,\n",
       " 8704.2,\n",
       " 9288.353333333333,\n",
       " 9184.923333333334,\n",
       " 9285.813333333334,\n",
       " 9774.82,\n",
       " 9589.903333333334,\n",
       " 8983.48,\n",
       " 9446.893333333333,\n",
       " 9157.453333333333,\n",
       " 9203.186666666666,\n",
       " 9356.303333333333,\n",
       " 9437.413333333334,\n",
       " 9296.723333333333,\n",
       " 9376.606666666667,\n",
       " 9541.946666666667,\n",
       " 9548.29,\n",
       " 9309.156666666666,\n",
       " 9567.953333333333,\n",
       " 8967.49,\n",
       " 9445.286666666667,\n",
       " 10158.853333333333,\n",
       " 9149.69,\n",
       " 9161.62,\n",
       " 8947.05,\n",
       " 9262.616666666667,\n",
       " 9314.64,\n",
       " 9575.883333333333,\n",
       " 9040.406666666666,\n",
       " 8952.92,\n",
       " 8997.306666666667,\n",
       " 9400.156666666666,\n",
       " 9416.933333333332,\n",
       " 9331.243333333334,\n",
       " 9284.84,\n",
       " 9036.603333333333,\n",
       " 9450.606666666667,\n",
       " 9239.256666666666,\n",
       " 9137.52,\n",
       " 9815.59,\n",
       " 9642.86,\n",
       " 9434.653333333334,\n",
       " 9161.57,\n",
       " 8785.103333333333,\n",
       " 9420.39,\n",
       " 9020.826666666666,\n",
       " 9059.92,\n",
       " 9485.456666666667,\n",
       " 9549.39,\n",
       " 8699.003333333334,\n",
       " 8800.103333333333,\n",
       " 9222.443333333333,\n",
       " 8815.443333333333,\n",
       " 8832.633333333333,\n",
       " 9106.786666666667,\n",
       " 9029.94,\n",
       " 9626.956666666667,\n",
       " 9194.743333333334,\n",
       " 9772.523333333333,\n",
       " 8754.733333333334,\n",
       " 9492.153333333334,\n",
       " 9577.816666666668,\n",
       " 9128.09,\n",
       " 9064.783333333333,\n",
       " 9418.706666666667,\n",
       " 8876.846666666666,\n",
       " 9153.123333333333,\n",
       " 9385.84,\n",
       " 8489.84,\n",
       " 9354.326666666666,\n",
       " 9287.18,\n",
       " 9298.89,\n",
       " 9716.996666666666,\n",
       " 8875.96,\n",
       " 9414.23,\n",
       " 9717.39,\n",
       " 9108.043333333333,\n",
       " 9042.55,\n",
       " 9144.49,\n",
       " 9316.21,\n",
       " 9670.583333333334,\n",
       " 9332.15,\n",
       " 9598.74,\n",
       " 9609.423333333334,\n",
       " 8740.03,\n",
       " 8971.913333333334,\n",
       " 9334.606666666667,\n",
       " 9546.556666666667,\n",
       " 9543.826666666666,\n",
       " 9162.626666666667,\n",
       " 9024.31,\n",
       " 9785.343333333334,\n",
       " 9089.823333333334,\n",
       " 9656.786666666667,\n",
       " 9178.326666666666,\n",
       " 9492.39,\n",
       " 9282.036666666667,\n",
       " 9286.686666666666,\n",
       " 9525.413333333334,\n",
       " 9247.913333333334,\n",
       " 9367.23,\n",
       " 9713.43,\n",
       " 9439.613333333333,\n",
       " 9667.923333333334,\n",
       " 9595.853333333333,\n",
       " 9231.67,\n",
       " 8851.136666666667,\n",
       " 8833.706666666667,\n",
       " 8991.01,\n",
       " 8918.463333333333,\n",
       " 9244.256666666666,\n",
       " 9781.743333333334,\n",
       " 9308.73,\n",
       " 9168.026666666667,\n",
       " 9220.86,\n",
       " 8985.263333333334,\n",
       " 9713.81,\n",
       " 9535.133333333333,\n",
       " 9223.496666666666,\n",
       " 9294.296666666667,\n",
       " 9012.026666666667,\n",
       " 9558.773333333333,\n",
       " 8947.093333333334,\n",
       " 8914.72,\n",
       " 9417.523333333333,\n",
       " 9224.83,\n",
       " 9181.2,\n",
       " 8944.403333333334,\n",
       " 9857.223333333333,\n",
       " 9193.933333333332,\n",
       " 9286.44,\n",
       " 8992.236666666666,\n",
       " 9203.236666666666,\n",
       " 8768.063333333334,\n",
       " 8986.28,\n",
       " 9066.376666666667,\n",
       " 9359.156666666666,\n",
       " 9359.046666666667,\n",
       " 8846.423333333334,\n",
       " 9105.793333333333,\n",
       " 9250.05,\n",
       " 9095.786666666667,\n",
       " 9189.38,\n",
       " 9258.276666666667,\n",
       " 9038.626666666667,\n",
       " 9460.636666666667,\n",
       " 9295.23,\n",
       " 9369.213333333333,\n",
       " 8891.086666666666,\n",
       " 9354.62,\n",
       " 9483.57,\n",
       " 9271.58,\n",
       " 9504.87,\n",
       " 9199.54,\n",
       " 9106.95,\n",
       " 8823.42,\n",
       " 9365.336666666666,\n",
       " 8873.94,\n",
       " 9742.256666666666,\n",
       " 9481.263333333334,\n",
       " 9481.23,\n",
       " 9595.32,\n",
       " 9425.763333333334,\n",
       " 9243.37,\n",
       " 9653.48,\n",
       " 9035.596666666666,\n",
       " 9502.94,\n",
       " 9341.853333333333,\n",
       " 9419.596666666666,\n",
       " 8937.79,\n",
       " 9053.69,\n",
       " 9205.603333333333,\n",
       " 9199.08,\n",
       " 9482.156666666666,\n",
       " 9995.796666666667,\n",
       " 9616.56,\n",
       " 9024.2,\n",
       " 8994.326666666666,\n",
       " 9393.98,\n",
       " 9555.92,\n",
       " 9202.463333333333,\n",
       " 8934.233333333334,\n",
       " 9769.976666666667,\n",
       " 9522.216666666667,\n",
       " 9172.226666666667,\n",
       " 9812.606666666667,\n",
       " 9569.81,\n",
       " 9304.266666666666,\n",
       " 9422.066666666668,\n",
       " 9267.213333333333,\n",
       " 9536.953333333333,\n",
       " 9917.29,\n",
       " 9637.443333333333,\n",
       " 9173.57,\n",
       " 8883.186666666666,\n",
       " 8772.043333333333,\n",
       " 9389.043333333333,\n",
       " 9121.376666666667,\n",
       " 9339.91,\n",
       " 9173.77,\n",
       " 9467.65,\n",
       " 9193.74,\n",
       " 9530.423333333334,\n",
       " 9427.706666666667,\n",
       " 9464.66,\n",
       " 9000.363333333333,\n",
       " 9180.646666666667,\n",
       " 8992.723333333333,\n",
       " 9278.626666666667,\n",
       " 8594.056666666667,\n",
       " 9514.73,\n",
       " 9240.4,\n",
       " 8510.263333333334,\n",
       " 9749.966666666667,\n",
       " 9557.523333333333,\n",
       " 9119.296666666667,\n",
       " 9089.966666666667,\n",
       " 9783.28,\n",
       " 8752.586666666666,\n",
       " 9104.55,\n",
       " 9216.86,\n",
       " 9170.733333333334,\n",
       " 9514.62,\n",
       " 9409.756666666666,\n",
       " 9081.36,\n",
       " 9134.766666666666,\n",
       " 9313.326666666666,\n",
       " 9430.69,\n",
       " 9199.296666666667,\n",
       " 9795.893333333333,\n",
       " 9784.813333333334,\n",
       " 9288.88,\n",
       " 8915.443333333333,\n",
       " 9427.123333333333,\n",
       " 9650.77,\n",
       " 9732.813333333334,\n",
       " 9230.916666666666,\n",
       " 9634.886666666667,\n",
       " 8966.79,\n",
       " 9005.4,\n",
       " 9277.15,\n",
       " 9041.16,\n",
       " 9216.846666666666,\n",
       " 8722.103333333333,\n",
       " 9695.476666666667,\n",
       " 9325.196666666667,\n",
       " 9236.033333333333,\n",
       " 9322.056666666667,\n",
       " 9337.283333333333,\n",
       " 8550.346666666666,\n",
       " 9186.496666666666,\n",
       " 9339.283333333333,\n",
       " 8344.443333333333,\n",
       " 9209.773333333333,\n",
       " 9030.096666666666,\n",
       " 9141.166666666666,\n",
       " 8758.233333333334,\n",
       " 8920.296666666667,\n",
       " 9569.453333333333,\n",
       " 9226.746666666666,\n",
       " 9871.243333333334,\n",
       " 8992.806666666667,\n",
       " 9037.326666666666,\n",
       " 9316.75,\n",
       " 9398.19,\n",
       " 9054.44,\n",
       " 9222.173333333334,\n",
       " 8880.986666666666,\n",
       " 9453.246666666666,\n",
       " 9641.783333333333,\n",
       " 8913.64,\n",
       " 9353.71,\n",
       " 9581.81,\n",
       " 9068.713333333333,\n",
       " 8677.51,\n",
       " 9176.926666666666,\n",
       " 9370.04,\n",
       " 8931.89,\n",
       " 9264.593333333334,\n",
       " 9368.236666666666,\n",
       " 9423.14,\n",
       " 8998.816666666668,\n",
       " 9396.393333333333,\n",
       " 9262.006666666666,\n",
       " 9406.786666666667,\n",
       " 9529.02,\n",
       " 8938.923333333334,\n",
       " 9335.23,\n",
       " 9036.423333333334,\n",
       " 9541.456666666667,\n",
       " 9306.436666666666,\n",
       " 8898.06,\n",
       " 9072.166666666666,\n",
       " 9367.553333333333,\n",
       " 9356.46,\n",
       " 8854.3,\n",
       " 9189.986666666666,\n",
       " 8791.016666666666,\n",
       " 8717.68,\n",
       " 9473.796666666667,\n",
       " 8618.97,\n",
       " 9636.35,\n",
       " 9844.323333333334,\n",
       " 9191.056666666667,\n",
       " 9759.843333333334,\n",
       " 9758.313333333334,\n",
       " 9419.73,\n",
       " 9340.706666666667,\n",
       " 9075.996666666666,\n",
       " 9307.363333333333,\n",
       " 10006.696666666667,\n",
       " 9166.57,\n",
       " 9281.88,\n",
       " 9287.036666666667,\n",
       " 9434.493333333334,\n",
       " 9292.55,\n",
       " 9395.253333333334,\n",
       " 9328.33,\n",
       " 9491.853333333333,\n",
       " 9217.246666666666,\n",
       " 9377.6,\n",
       " 9574.84,\n",
       " 9407.033333333333,\n",
       " 9229.64,\n",
       " 8977.216666666667,\n",
       " 9256.11,\n",
       " 9457.93,\n",
       " 9259.81,\n",
       " 8962.336666666666,\n",
       " 8818.213333333333,\n",
       " 9321.91,\n",
       " 9261.946666666667,\n",
       " 9283.483333333334,\n",
       " 9125.886666666667,\n",
       " 9226.023333333333,\n",
       " 9078.646666666667,\n",
       " 9131.6,\n",
       " 8655.763333333334,\n",
       " 9174.763333333334,\n",
       " 9651.406666666666,\n",
       " 9000.076666666666,\n",
       " 8947.743333333334,\n",
       " 9051.2,\n",
       " 9138.96,\n",
       " 9006.81,\n",
       " 9267.406666666666,\n",
       " 9161.34,\n",
       " 8954.826666666666,\n",
       " 9505.96,\n",
       " 9206.896666666667,\n",
       " 9585.49,\n",
       " 9084.57,\n",
       " 8906.03,\n",
       " 9540.74,\n",
       " 9266.286666666667,\n",
       " 9597.12,\n",
       " 9158.03,\n",
       " 9420.176666666666,\n",
       " 9387.366666666667,\n",
       " 9522.46,\n",
       " 9334.813333333334,\n",
       " 9134.49,\n",
       " 9432.043333333333,\n",
       " 9378.313333333334,\n",
       " 9187.913333333334,\n",
       " 9203.466666666667,\n",
       " 9655.836666666666,\n",
       " 9407.193333333333,\n",
       " 8957.0,\n",
       " 9453.646666666667,\n",
       " 9394.573333333334,\n",
       " 9149.903333333334,\n",
       " 9167.193333333333,\n",
       " 8991.51,\n",
       " 10164.936666666666,\n",
       " 9412.933333333332,\n",
       " 8893.5,\n",
       " 9276.31,\n",
       " 9191.13,\n",
       " 9622.75,\n",
       " 9387.15,\n",
       " 9030.403333333334,\n",
       " 9454.113333333333,\n",
       " 9104.483333333334,\n",
       " 9514.886666666667,\n",
       " 9060.906666666666,\n",
       " 9709.933333333332,\n",
       " 9696.34,\n",
       " 8895.323333333334,\n",
       " 9028.786666666667,\n",
       " 9163.396666666667,\n",
       " 9151.583333333334,\n",
       " 9408.64,\n",
       " 9552.62,\n",
       " 9293.616666666667,\n",
       " 9604.82,\n",
       " 9361.92,\n",
       " 9390.243333333334,\n",
       " 9070.423333333334,\n",
       " 9744.4,\n",
       " 9257.026666666667,\n",
       " 8994.026666666667,\n",
       " 9536.96,\n",
       " 9045.153333333334,\n",
       " 9304.083333333334,\n",
       " 9398.796666666667,\n",
       " 9215.34,\n",
       " 9127.443333333333,\n",
       " 9151.24,\n",
       " 9279.22,\n",
       " 9616.723333333333,\n",
       " 9436.796666666667,\n",
       " 9234.216666666667,\n",
       " 8859.376666666667,\n",
       " 9984.533333333333,\n",
       " 9701.22,\n",
       " 8647.37,\n",
       " 9113.206666666667,\n",
       " 9631.82,\n",
       " 9108.37,\n",
       " 9253.436666666666,\n",
       " 9310.903333333334,\n",
       " 9123.83,\n",
       " 9209.983333333334,\n",
       " 8876.35,\n",
       " 9449.936666666666,\n",
       " 9116.143333333333,\n",
       " 9149.673333333334,\n",
       " 9564.226666666667,\n",
       " 9429.206666666667,\n",
       " 8991.953333333333,\n",
       " 8770.746666666666,\n",
       " 9232.023333333333,\n",
       " 9409.233333333334,\n",
       " 8873.303333333333,\n",
       " 9595.966666666667,\n",
       " 9153.493333333334,\n",
       " 9023.293333333333,\n",
       " 9566.42,\n",
       " 9320.563333333334,\n",
       " 8986.293333333333,\n",
       " 9023.106666666667,\n",
       " 9258.033333333333,\n",
       " 8910.92,\n",
       " 9089.47,\n",
       " 9097.096666666666,\n",
       " 8872.086666666666,\n",
       " 9624.196666666667,\n",
       " 9115.046666666667,\n",
       " 9415.21,\n",
       " 9212.586666666666,\n",
       " 9306.906666666666,\n",
       " 9311.29,\n",
       " 9668.163333333334,\n",
       " 8835.15,\n",
       " 9541.526666666667,\n",
       " 8879.656666666666,\n",
       " 9054.26,\n",
       " 9161.593333333334,\n",
       " 10093.08,\n",
       " 9532.603333333333,\n",
       " 9850.81,\n",
       " 9223.16,\n",
       " 9345.753333333334,\n",
       " 9037.083333333334,\n",
       " 9540.79,\n",
       " 9262.24,\n",
       " 9088.866666666667,\n",
       " 9574.533333333333,\n",
       " 8777.326666666666,\n",
       " 9886.876666666667,\n",
       " 9194.443333333333,\n",
       " 9142.213333333333,\n",
       " 9335.816666666668,\n",
       " 9433.29,\n",
       " 8955.616666666667,\n",
       " 9578.493333333334,\n",
       " 8828.203333333333,\n",
       " 9313.75,\n",
       " 8983.89,\n",
       " 9327.37,\n",
       " 9504.083333333334,\n",
       " 8940.086666666666,\n",
       " 8845.03,\n",
       " 9214.84,\n",
       " 9349.956666666667,\n",
       " 9424.303333333333,\n",
       " 8896.55,\n",
       " 8544.376666666667,\n",
       " 9665.923333333334,\n",
       " 8920.853333333333,\n",
       " 9495.436666666666,\n",
       " 8691.343333333334,\n",
       " 9071.923333333334,\n",
       " 9298.11,\n",
       " 9270.73,\n",
       " 9188.17,\n",
       " 9348.313333333334,\n",
       " 9234.273333333333,\n",
       " 9010.716666666667,\n",
       " 9650.843333333334,\n",
       " 9775.97,\n",
       " 9286.96]"
      ]
     },
     "execution_count": 56,
     "metadata": {},
     "output_type": "execute_result"
    }
   ],
   "source": [
    "between26to35mean=[df[df['Age']=='26-35']['Purchase'].sample(300).mean() for i in range(1000)]\n",
    "between26to35mean"
   ]
  },
  {
   "cell_type": "code",
   "execution_count": 57,
   "metadata": {},
   "outputs": [
    {
     "data": {
      "text/plain": [
       "<seaborn.axisgrid.FacetGrid at 0x296207b0ef0>"
      ]
     },
     "execution_count": 57,
     "metadata": {},
     "output_type": "execute_result"
    },
    {
     "data": {
      "image/png": "[encoded data removed]",
      "text/plain": [
       "<Figure size 360x360 with 1 Axes>"
      ]
     },
     "metadata": {},
     "output_type": "display_data"
    }
   ],
   "source": [
    "sbn.displot(between26to35mean,bins=100, kde=True)"
   ]
  },
  {
   "cell_type": "code",
   "execution_count": 58,
   "metadata": {},
   "outputs": [
    {
     "data": {
      "text/plain": [
       "285.23685253570807"
      ]
     },
     "execution_count": 58,
     "metadata": {},
     "output_type": "execute_result"
    }
   ],
   "source": [
    "#std of between26to35 expenses mean\n",
    "between26to35std=np.array(between26to35mean).std()\n",
    "between26to35std"
   ]
  },
  {
   "cell_type": "code",
   "execution_count": 59,
   "metadata": {},
   "outputs": [
    {
     "name": "stdout",
     "output_type": "stream",
     "text": [
      "(lower limit,upperlimit): (9254.795376718042, 9290.153703281956)\n"
     ]
    }
   ],
   "source": [
    "# 95% confidence interval for between26to35\n",
    "v=(np.array(between26to35mean).mean()-1.96*(between26to35std/np.sqrt(1000)),np.array(between26to35mean).mean()+1.96*(between26to35std/np.sqrt(1000)))\n",
    "print(\"(lower limit,upperlimit):\",v)"
   ]
  },
  {
   "cell_type": "code",
   "execution_count": 60,
   "metadata": {},
   "outputs": [],
   "source": [
    "#df between '36-45'\n",
    "between26to35=[df[df['Age']=='36-45']['Purchase']]"
   ]
  },
  {
   "cell_type": "code",
   "execution_count": 61,
   "metadata": {},
   "outputs": [],
   "source": [
    "between36to45mean=[df[df['Age']=='36-45']['Purchase'].sample(300).mean() for i in range(1000)]\n"
   ]
  },
  {
   "cell_type": "code",
   "execution_count": 62,
   "metadata": {},
   "outputs": [
    {
     "data": {
      "text/plain": [
       "<seaborn.axisgrid.FacetGrid at 0x296207ceda0>"
      ]
     },
     "execution_count": 62,
     "metadata": {},
     "output_type": "execute_result"
    },
    {
     "data": {
      "image/png": "[encoded data removed]",
      "text/plain": [
       "<Figure size 360x360 with 1 Axes>"
      ]
     },
     "metadata": {},
     "output_type": "display_data"
    }
   ],
   "source": [
    "sbn.displot(between36to45mean,bins=100, kde=True)"
   ]
  },
  {
   "cell_type": "code",
   "execution_count": 63,
   "metadata": {},
   "outputs": [
    {
     "data": {
      "text/plain": [
       "288.92719520999134"
      ]
     },
     "execution_count": 63,
     "metadata": {},
     "output_type": "execute_result"
    }
   ],
   "source": [
    "#std of between36to45 expenses mean\n",
    "between36to45std=np.array(between36to45mean).std()\n",
    "between36to45std"
   ]
  },
  {
   "cell_type": "code",
   "execution_count": 64,
   "metadata": {},
   "outputs": [
    {
     "name": "stdout",
     "output_type": "stream",
     "text": [
      "(lower limit,upperlimit): (9320.633410242712, 9356.449196423955)\n"
     ]
    }
   ],
   "source": [
    "# 95% confidence interval for between36to45\n",
    "v=(np.array(between36to45mean).mean()-1.96*(between36to45std/np.sqrt(1000)),np.array(between36to45mean).mean()+1.96*(between36to45std/np.sqrt(1000)))\n",
    "print(\"(lower limit,upperlimit):\",v)"
   ]
  },
  {
   "cell_type": "code",
   "execution_count": 65,
   "metadata": {},
   "outputs": [],
   "source": [
    "#df of age between 46-50\n",
    "between26to35=[df[df['Age']=='46-50']['Purchase']]"
   ]
  },
  {
   "cell_type": "code",
   "execution_count": 66,
   "metadata": {},
   "outputs": [],
   "source": [
    "between46to50mean=[df[df['Age']=='46-50']['Purchase'].sample(300).mean() for i in range(1000)]\n"
   ]
  },
  {
   "cell_type": "code",
   "execution_count": 67,
   "metadata": {},
   "outputs": [
    {
     "data": {
      "text/plain": [
       "<seaborn.axisgrid.FacetGrid at 0x29620958e48>"
      ]
     },
     "execution_count": 67,
     "metadata": {},
     "output_type": "execute_result"
    },
    {
     "data": {
      "image/png": "[encoded data removed]",
      "text/plain": [
       "<Figure size 360x360 with 1 Axes>"
      ]
     },
     "metadata": {},
     "output_type": "display_data"
    }
   ],
   "source": [
    "sbn.displot(between46to50mean,bins=100, kde=True)"
   ]
  },
  {
   "cell_type": "code",
   "execution_count": 68,
   "metadata": {},
   "outputs": [
    {
     "data": {
      "text/plain": [
       "277.495413019108"
      ]
     },
     "execution_count": 68,
     "metadata": {},
     "output_type": "execute_result"
    }
   ],
   "source": [
    "#std of between46to50 expenses mean\n",
    "between46to50std=np.array(between46to50mean).std()\n",
    "between46to50std"
   ]
  },
  {
   "cell_type": "code",
   "execution_count": 69,
   "metadata": {},
   "outputs": [
    {
     "name": "stdout",
     "output_type": "stream",
     "text": [
      "(lower limit,upperlimit): (9187.758452777032, 9222.157140556303)\n"
     ]
    }
   ],
   "source": [
    "# 95% confidence interval for between46to50\n",
    "v=(np.array(between46to50mean).mean()-1.96*(between46to50std/np.sqrt(1000)),np.array(between46to50mean).mean()+1.96*(between46to50std/np.sqrt(1000)))\n",
    "print(\"(lower limit,upperlimit):\",v)"
   ]
  },
  {
   "cell_type": "code",
   "execution_count": 70,
   "metadata": {},
   "outputs": [],
   "source": [
    "#df of age between '51-55'\n",
    "between51to55=[df[df['Age']=='51-55']['Purchase']]"
   ]
  },
  {
   "cell_type": "code",
   "execution_count": 71,
   "metadata": {},
   "outputs": [],
   "source": [
    "between51to55mean=[df[df['Age']=='51-55']['Purchase'].sample(300).mean() for i in range(1000)]"
   ]
  },
  {
   "cell_type": "code",
   "execution_count": 72,
   "metadata": {},
   "outputs": [
    {
     "data": {
      "text/plain": [
       "<seaborn.axisgrid.FacetGrid at 0x29620a429b0>"
      ]
     },
     "execution_count": 72,
     "metadata": {},
     "output_type": "execute_result"
    },
    {
     "data": {
      "image/png": "[encoded data removed]",
      "text/plain": [
       "<Figure size 360x360 with 1 Axes>"
      ]
     },
     "metadata": {},
     "output_type": "display_data"
    }
   ],
   "source": [
    "sbn.displot(between51to55mean,bins=100, kde=True)"
   ]
  },
  {
   "cell_type": "code",
   "execution_count": 73,
   "metadata": {},
   "outputs": [
    {
     "data": {
      "text/plain": [
       "294.7158918004292"
      ]
     },
     "execution_count": 73,
     "metadata": {},
     "output_type": "execute_result"
    }
   ],
   "source": [
    "#std of between51to55 expenses mean\n",
    "between51to55std=np.array(between51to55mean).std()\n",
    "between51to55std"
   ]
  },
  {
   "cell_type": "code",
   "execution_count": 74,
   "metadata": {},
   "outputs": [
    {
     "name": "stdout",
     "output_type": "stream",
     "text": [
      "(lower limit,upperlimit): (9508.018699777553, 9544.552060222446)\n"
     ]
    }
   ],
   "source": [
    "# 95% confidence interval for between51to55\n",
    "v=(np.array(between51to55mean).mean()-1.96*(between51to55std/np.sqrt(1000)),np.array(between51to55mean).mean()+1.96*(between51to55std/np.sqrt(1000)))\n",
    "print(\"(lower limit,upperlimit):\",v)"
   ]
  },
  {
   "cell_type": "code",
   "execution_count": 75,
   "metadata": {},
   "outputs": [],
   "source": [
    "# Age 55+ dataframe\n",
    "between51to55=[df[df['Age']=='55+']['Purchase']]"
   ]
  },
  {
   "cell_type": "code",
   "execution_count": 76,
   "metadata": {},
   "outputs": [],
   "source": [
    "between55plusmean=[df[df['Age']=='55+']['Purchase'].sample(300).mean() for i in range(1000)]\n"
   ]
  },
  {
   "cell_type": "code",
   "execution_count": null,
   "metadata": {},
   "outputs": [],
   "source": [
    "# sbn.displot(between55plusmean,bins=100, kde=True)"
   ]
  },
  {
   "cell_type": "code",
   "execution_count": 77,
   "metadata": {},
   "outputs": [
    {
     "data": {
      "text/plain": [
       "287.1748491602154"
      ]
     },
     "execution_count": 77,
     "metadata": {},
     "output_type": "execute_result"
    }
   ],
   "source": [
    "#std of age 55+ expenses mean\n",
    "between55plusstd=np.array(between55plusmean).std()\n",
    "between55plusstd"
   ]
  },
  {
   "cell_type": "code",
   "execution_count": 78,
   "metadata": {},
   "outputs": [
    {
     "name": "stdout",
     "output_type": "stream",
     "text": [
      "(lower limit,upperlimit): (9301.355805109459, 9336.954368223873)\n"
     ]
    }
   ],
   "source": [
    "# 95% confidence interval for between55plus\n",
    "v=(np.array(between55plusmean).mean()-1.96*(between55plusstd/np.sqrt(1000)),np.array(between55plusmean).mean()+1.96*(between55plusstd/np.sqrt(1000)))\n",
    "print(\"(lower limit,upperlimit):\",v)"
   ]
  },
  {
   "cell_type": "code",
   "execution_count": 79,
   "metadata": {},
   "outputs": [],
   "source": [
    "# Purchasing of age groups increases from 17 to(36 to 45) and then there is variation"
   ]
  },
  {
   "cell_type": "markdown",
   "metadata": {},
   "source": [
    "Recommendations:"
   ]
  },
  {
   "cell_type": "markdown",
   "metadata": {},
   "source": [
    "1. As male customers has more purchasing range compared to female customers, products which are more purchased by men like 1,5,8 need to be kept more in stock.                                                                                        \n",
    "2. Stores in type of city \"B\" should have more reserves of best selling items which would help to maintain consistency."
   ]
  },
  {
   "cell_type": "code",
   "execution_count": null,
   "metadata": {},
   "outputs": [],
   "source": []
  }
 ],
 "metadata": {
  "kernelspec": {
   "display_name": "Python 3",
   "language": "python",
   "name": "python3"
  },
  "language_info": {
   "codemirror_mode": {
    "name": "ipython",
    "version": 3
   },
   "file_extension": ".py",
   "mimetype": "text/x-python",
   "name": "python",
   "nbconvert_exporter": "python",
   "pygments_lexer": "ipython3",
   "version": "3.6.5"
  }
 },
 "nbformat": 4,
 "nbformat_minor": 2
}
